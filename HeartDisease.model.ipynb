{
 "cells": [
  {
   "cell_type": "markdown",
   "metadata": {
    "collapsed": true
   },
   "source": [
    "## Project Title: Predicting Heart Attack Probability\n",
    "## Notebook Title: Model Definition"
   ]
  },
  {
   "cell_type": "markdown",
   "metadata": {},
   "source": [
    "### Step 1: Set Configurations and Import Requirements"
   ]
  },
  {
   "cell_type": "code",
   "execution_count": 1,
   "metadata": {},
   "outputs": [
    {
     "data": {
      "text/markdown": [
       "# <span style=\"color:green\">All is Fine -- Proceed!</span>"
      ],
      "text/plain": [
       "<IPython.core.display.Markdown object>"
      ]
     },
     "metadata": {},
     "output_type": "display_data"
    }
   ],
   "source": [
    "from IPython.display import Markdown, display\n",
    "def printmd(string):\n",
    "    display(Markdown('# <span style=\"color:green\">'+string+'</span>'))\n",
    "\n",
    "\n",
    "if ('sc' in locals() or 'sc' in globals()):\n",
    "    printmd('<<<<<!!!!! It seems that you are running in a IBM Watson Studio Apache Spark Notebook. Please run it in an IBM Watson Studio Default Runtime (without Apache Spark) !!!!!>>>>>')\n",
    "else:\n",
    "    printmd(\"All is Fine -- Proceed!\")"
   ]
  },
  {
   "cell_type": "code",
   "execution_count": 2,
   "metadata": {},
   "outputs": [
    {
     "name": "stdout",
     "output_type": "stream",
     "text": [
      "Collecting pyspark==2.4.5\n",
      "\u001b[?25l  Downloading https://files.pythonhosted.org/packages/9a/5a/271c416c1c2185b6cb0151b29a91fff6fcaed80173c8584ff6d20e46b465/pyspark-2.4.5.tar.gz (217.8MB)\n",
      "\u001b[K     |████████████████████████████████| 217.8MB 144kB/s  eta 0:00:01\n",
      "\u001b[?25hCollecting py4j==0.10.7 (from pyspark==2.4.5)\n",
      "\u001b[?25l  Downloading https://files.pythonhosted.org/packages/e3/53/c737818eb9a7dc32a7cd4f1396e787bd94200c3997c72c1dbe028587bd76/py4j-0.10.7-py2.py3-none-any.whl (197kB)\n",
      "\u001b[K     |████████████████████████████████| 204kB 27.8MB/s eta 0:00:01\n",
      "\u001b[?25hBuilding wheels for collected packages: pyspark\n",
      "  Building wheel for pyspark (setup.py) ... \u001b[?25ldone\n",
      "\u001b[?25h  Stored in directory: /home/dsxuser/.cache/pip/wheels/bf/db/04/61d66a5939364e756eb1c1be4ec5bdce6e04047fc7929a3c3c\n",
      "Successfully built pyspark\n",
      "Installing collected packages: py4j, pyspark\n",
      "Successfully installed py4j-0.10.7 pyspark-2.4.5\n"
     ]
    }
   ],
   "source": [
    "!pip install pyspark==2.4.5"
   ]
  },
  {
   "cell_type": "code",
   "execution_count": 3,
   "metadata": {},
   "outputs": [
    {
     "data": {
      "text/markdown": [
       "# <span style=\"color:green\">All Libraries Imported OK</span>"
      ],
      "text/plain": [
       "<IPython.core.display.Markdown object>"
      ]
     },
     "metadata": {},
     "output_type": "display_data"
    }
   ],
   "source": [
    "try:\n",
    "    from pyspark import SparkContext, SparkConf\n",
    "    from pyspark.sql import SparkSession\n",
    "    printmd(\"All Libraries Imported OK\")\n",
    "except ImportError as e:\n",
    "    printmd('<<<<<!!!!! Please restart your kernel after installing Apache Spark !!!!!>>>>>')"
   ]
  },
  {
   "cell_type": "code",
   "execution_count": 4,
   "metadata": {},
   "outputs": [],
   "source": [
    "sc = SparkContext.getOrCreate(SparkConf().setMaster(\"local[*]\"))\n",
    "\n",
    "spark = SparkSession \\\n",
    "    .builder \\\n",
    "    .getOrCreate()"
   ]
  },
  {
   "cell_type": "markdown",
   "metadata": {},
   "source": [
    "### Step 2: Download Data Set from Kaggle and convert to Spark Data Frame"
   ]
  },
  {
   "cell_type": "code",
   "execution_count": 5,
   "metadata": {},
   "outputs": [
    {
     "data": {
      "text/html": [
       "<div>\n",
       "<style scoped>\n",
       "    .dataframe tbody tr th:only-of-type {\n",
       "        vertical-align: middle;\n",
       "    }\n",
       "\n",
       "    .dataframe tbody tr th {\n",
       "        vertical-align: top;\n",
       "    }\n",
       "\n",
       "    .dataframe thead th {\n",
       "        text-align: right;\n",
       "    }\n",
       "</style>\n",
       "<table border=\"1\" class=\"dataframe\">\n",
       "  <thead>\n",
       "    <tr style=\"text-align: right;\">\n",
       "      <th></th>\n",
       "      <th>age</th>\n",
       "      <th>sex</th>\n",
       "      <th>cp</th>\n",
       "      <th>trestbps</th>\n",
       "      <th>chol</th>\n",
       "      <th>fbs</th>\n",
       "      <th>restecg</th>\n",
       "      <th>thalach</th>\n",
       "      <th>exang</th>\n",
       "      <th>oldpeak</th>\n",
       "      <th>slope</th>\n",
       "      <th>ca</th>\n",
       "      <th>thal</th>\n",
       "      <th>target</th>\n",
       "    </tr>\n",
       "  </thead>\n",
       "  <tbody>\n",
       "    <tr>\n",
       "      <th>0</th>\n",
       "      <td>63</td>\n",
       "      <td>1</td>\n",
       "      <td>3</td>\n",
       "      <td>145</td>\n",
       "      <td>233</td>\n",
       "      <td>1</td>\n",
       "      <td>0</td>\n",
       "      <td>150</td>\n",
       "      <td>0</td>\n",
       "      <td>2.3</td>\n",
       "      <td>0</td>\n",
       "      <td>0</td>\n",
       "      <td>1</td>\n",
       "      <td>1</td>\n",
       "    </tr>\n",
       "    <tr>\n",
       "      <th>1</th>\n",
       "      <td>37</td>\n",
       "      <td>1</td>\n",
       "      <td>2</td>\n",
       "      <td>130</td>\n",
       "      <td>250</td>\n",
       "      <td>0</td>\n",
       "      <td>1</td>\n",
       "      <td>187</td>\n",
       "      <td>0</td>\n",
       "      <td>3.5</td>\n",
       "      <td>0</td>\n",
       "      <td>0</td>\n",
       "      <td>2</td>\n",
       "      <td>1</td>\n",
       "    </tr>\n",
       "    <tr>\n",
       "      <th>2</th>\n",
       "      <td>41</td>\n",
       "      <td>0</td>\n",
       "      <td>1</td>\n",
       "      <td>130</td>\n",
       "      <td>204</td>\n",
       "      <td>0</td>\n",
       "      <td>0</td>\n",
       "      <td>172</td>\n",
       "      <td>0</td>\n",
       "      <td>1.4</td>\n",
       "      <td>2</td>\n",
       "      <td>0</td>\n",
       "      <td>2</td>\n",
       "      <td>1</td>\n",
       "    </tr>\n",
       "    <tr>\n",
       "      <th>3</th>\n",
       "      <td>56</td>\n",
       "      <td>1</td>\n",
       "      <td>1</td>\n",
       "      <td>120</td>\n",
       "      <td>236</td>\n",
       "      <td>0</td>\n",
       "      <td>1</td>\n",
       "      <td>178</td>\n",
       "      <td>0</td>\n",
       "      <td>0.8</td>\n",
       "      <td>2</td>\n",
       "      <td>0</td>\n",
       "      <td>2</td>\n",
       "      <td>1</td>\n",
       "    </tr>\n",
       "    <tr>\n",
       "      <th>4</th>\n",
       "      <td>57</td>\n",
       "      <td>0</td>\n",
       "      <td>0</td>\n",
       "      <td>120</td>\n",
       "      <td>354</td>\n",
       "      <td>0</td>\n",
       "      <td>1</td>\n",
       "      <td>163</td>\n",
       "      <td>1</td>\n",
       "      <td>0.6</td>\n",
       "      <td>2</td>\n",
       "      <td>0</td>\n",
       "      <td>2</td>\n",
       "      <td>1</td>\n",
       "    </tr>\n",
       "  </tbody>\n",
       "</table>\n",
       "</div>"
      ],
      "text/plain": [
       "   age  sex  cp  trestbps  chol  fbs  restecg  thalach  exang  oldpeak  slope  \\\n",
       "0   63    1   3       145   233    1        0      150      0      2.3      0   \n",
       "1   37    1   2       130   250    0        1      187      0      3.5      0   \n",
       "2   41    0   1       130   204    0        0      172      0      1.4      2   \n",
       "3   56    1   1       120   236    0        1      178      0      0.8      2   \n",
       "4   57    0   0       120   354    0        1      163      1      0.6      2   \n",
       "\n",
       "   ca  thal  target  \n",
       "0   0     1       1  \n",
       "1   0     2       1  \n",
       "2   0     2       1  \n",
       "3   0     2       1  \n",
       "4   0     2       1  "
      ]
     },
     "execution_count": 5,
     "metadata": {},
     "output_type": "execute_result"
    }
   ],
   "source": [
    "\n",
    "import types\n",
    "import pandas as pd\n",
    "from botocore.client import Config\n",
    "import ibm_boto3\n",
    "\n",
    "def __iter__(self): return 0\n",
    "\n",
    "# @hidden_cell\n",
    
    "df_data_1 = pd.read_csv(body)\n",
    "df_data_1.head()\n"
   ]
  },
  {
   "cell_type": "markdown",
   "metadata": {},
   "source": [
    "### Step 3: Normalize Data in ''age'', ''trestbps'', ''chol'' and ''thalach'' columns"
   ]
  },
  {
   "cell_type": "code",
   "execution_count": 26,
   "metadata": {},
   "outputs": [],
   "source": [
    "from scipy.stats import *"
   ]
  },
  {
   "cell_type": "code",
   "execution_count": 6,
   "metadata": {},
   "outputs": [],
   "source": [
    "dfPandas = df_data_1"
   ]
  },
  {
   "cell_type": "code",
   "execution_count": 7,
   "metadata": {},
   "outputs": [],
   "source": [
    "dfPandas.dropna(axis=0,inplace=True)"
   ]
  },
  {
   "cell_type": "code",
   "execution_count": 8,
   "metadata": {},
   "outputs": [],
   "source": [
    "dfPandas = dfPandas.drop_duplicates()"
   ]
  },
  {
   "cell_type": "code",
   "execution_count": 9,
   "metadata": {},
   "outputs": [],
   "source": [
    "aList = [0,3,4,7]"
   ]
  },
  {
   "cell_type": "code",
   "execution_count": 11,
   "metadata": {},
   "outputs": [],
   "source": [
    "for col in aList:\n",
    "    dfPandas.iloc[:,col] = (dfPandas.iloc[:,col]- dfPandas.iloc[:,col].mean())/dfPandas.iloc[:,col].std()"
   ]
  },
  {
   "cell_type": "code",
   "execution_count": 12,
   "metadata": {},
   "outputs": [
    {
     "data": {
      "text/html": [
       "<div>\n",
       "<style scoped>\n",
       "    .dataframe tbody tr th:only-of-type {\n",
       "        vertical-align: middle;\n",
       "    }\n",
       "\n",
       "    .dataframe tbody tr th {\n",
       "        vertical-align: top;\n",
       "    }\n",
       "\n",
       "    .dataframe thead th {\n",
       "        text-align: right;\n",
       "    }\n",
       "</style>\n",
       "<table border=\"1\" class=\"dataframe\">\n",
       "  <thead>\n",
       "    <tr style=\"text-align: right;\">\n",
       "      <th></th>\n",
       "      <th>age</th>\n",
       "      <th>sex</th>\n",
       "      <th>cp</th>\n",
       "      <th>trestbps</th>\n",
       "      <th>chol</th>\n",
       "      <th>fbs</th>\n",
       "      <th>restecg</th>\n",
       "      <th>thalach</th>\n",
       "      <th>exang</th>\n",
       "      <th>oldpeak</th>\n",
       "      <th>slope</th>\n",
       "      <th>ca</th>\n",
       "      <th>thal</th>\n",
       "      <th>target</th>\n",
       "    </tr>\n",
       "  </thead>\n",
       "  <tbody>\n",
       "    <tr>\n",
       "      <th>0</th>\n",
       "      <td>0.948220</td>\n",
       "      <td>1</td>\n",
       "      <td>3</td>\n",
       "      <td>0.762800</td>\n",
       "      <td>-0.260852</td>\n",
       "      <td>1</td>\n",
       "      <td>0</td>\n",
       "      <td>0.018795</td>\n",
       "      <td>0</td>\n",
       "      <td>2.3</td>\n",
       "      <td>0</td>\n",
       "      <td>0</td>\n",
       "      <td>1</td>\n",
       "      <td>1</td>\n",
       "    </tr>\n",
       "    <tr>\n",
       "      <th>1</th>\n",
       "      <td>-1.925352</td>\n",
       "      <td>1</td>\n",
       "      <td>2</td>\n",
       "      <td>-0.091249</td>\n",
       "      <td>0.067628</td>\n",
       "      <td>0</td>\n",
       "      <td>1</td>\n",
       "      <td>1.634266</td>\n",
       "      <td>0</td>\n",
       "      <td>3.5</td>\n",
       "      <td>0</td>\n",
       "      <td>0</td>\n",
       "      <td>2</td>\n",
       "      <td>1</td>\n",
       "    </tr>\n",
       "    <tr>\n",
       "      <th>2</th>\n",
       "      <td>-1.483264</td>\n",
       "      <td>0</td>\n",
       "      <td>1</td>\n",
       "      <td>-0.091249</td>\n",
       "      <td>-0.821201</td>\n",
       "      <td>0</td>\n",
       "      <td>0</td>\n",
       "      <td>0.979345</td>\n",
       "      <td>0</td>\n",
       "      <td>1.4</td>\n",
       "      <td>2</td>\n",
       "      <td>0</td>\n",
       "      <td>2</td>\n",
       "      <td>1</td>\n",
       "    </tr>\n",
       "    <tr>\n",
       "      <th>3</th>\n",
       "      <td>0.174566</td>\n",
       "      <td>1</td>\n",
       "      <td>1</td>\n",
       "      <td>-0.660615</td>\n",
       "      <td>-0.202885</td>\n",
       "      <td>0</td>\n",
       "      <td>1</td>\n",
       "      <td>1.241314</td>\n",
       "      <td>0</td>\n",
       "      <td>0.8</td>\n",
       "      <td>2</td>\n",
       "      <td>0</td>\n",
       "      <td>2</td>\n",
       "      <td>1</td>\n",
       "    </tr>\n",
       "    <tr>\n",
       "      <th>4</th>\n",
       "      <td>0.285088</td>\n",
       "      <td>0</td>\n",
       "      <td>0</td>\n",
       "      <td>-0.660615</td>\n",
       "      <td>2.077155</td>\n",
       "      <td>0</td>\n",
       "      <td>1</td>\n",
       "      <td>0.586393</td>\n",
       "      <td>1</td>\n",
       "      <td>0.6</td>\n",
       "      <td>2</td>\n",
       "      <td>0</td>\n",
       "      <td>2</td>\n",
       "      <td>1</td>\n",
       "    </tr>\n",
       "  </tbody>\n",
       "</table>\n",
       "</div>"
      ],
      "text/plain": [
       "        age  sex  cp  trestbps      chol  fbs  restecg   thalach  exang  \\\n",
       "0  0.948220    1   3  0.762800 -0.260852    1        0  0.018795      0   \n",
       "1 -1.925352    1   2 -0.091249  0.067628    0        1  1.634266      0   \n",
       "2 -1.483264    0   1 -0.091249 -0.821201    0        0  0.979345      0   \n",
       "3  0.174566    1   1 -0.660615 -0.202885    0        1  1.241314      0   \n",
       "4  0.285088    0   0 -0.660615  2.077155    0        1  0.586393      1   \n",
       "\n",
       "   oldpeak  slope  ca  thal  target  \n",
       "0      2.3      0   0     1       1  \n",
       "1      3.5      0   0     2       1  \n",
       "2      1.4      2   0     2       1  \n",
       "3      0.8      2   0     2       1  \n",
       "4      0.6      2   0     2       1  "
      ]
     },
     "execution_count": 12,
     "metadata": {},
     "output_type": "execute_result"
    }
   ],
   "source": [
    "dfPandas.head()"
   ]
  },
  {
   "cell_type": "markdown",
   "metadata": {},
   "source": [
    "### Step 4: Use Gradient Boosting Tree (GBT) Machine Learning Algorithm with MulticlassClassification Evaluator ''Accuracy'' Metric"
   ]
  },
  {
   "cell_type": "code",
   "execution_count": 33,
   "metadata": {},
   "outputs": [
    {
     "data": {
      "text/plain": [
       "(302, 14)"
      ]
     },
     "execution_count": 33,
     "metadata": {},
     "output_type": "execute_result"
    }
   ],
   "source": [
    "dfPandas.shape"
   ]
  },
  {
   "cell_type": "code",
   "execution_count": 13,
   "metadata": {},
   "outputs": [],
   "source": [
    "dfSpark = spark.createDataFrame(dfPandas)"
   ]
  },
  {
   "cell_type": "code",
   "execution_count": 14,
   "metadata": {},
   "outputs": [],
   "source": [
    "LENGTH = len(dfSpark.columns)"
   ]
  },
  {
   "cell_type": "code",
   "execution_count": 15,
   "metadata": {},
   "outputs": [],
   "source": [
    "inputCol = dfSpark.columns[0:LENGTH-1]"
   ]
  },
  {
   "cell_type": "code",
   "execution_count": 16,
   "metadata": {},
   "outputs": [
    {
     "data": {
      "text/plain": [
       "['age',\n",
       " 'sex',\n",
       " 'cp',\n",
       " 'trestbps',\n",
       " 'chol',\n",
       " 'fbs',\n",
       " 'restecg',\n",
       " 'thalach',\n",
       " 'exang',\n",
       " 'oldpeak',\n",
       " 'slope',\n",
       " 'ca',\n",
       " 'thal']"
      ]
     },
     "execution_count": 16,
     "metadata": {},
     "output_type": "execute_result"
    }
   ],
   "source": [
    "inputCol"
   ]
  },
  {
   "cell_type": "code",
   "execution_count": 38,
   "metadata": {},
   "outputs": [],
   "source": [
    "from pyspark.ml.feature import VectorAssembler\n",
    "vectorAssembler = VectorAssembler(inputCols = inputCol, outputCol = \"features\")"
   ]
  },
  {
   "cell_type": "code",
   "execution_count": 39,
   "metadata": {},
   "outputs": [],
   "source": [
    "from pyspark.ml.classification import GBTClassifier as GBTC \n",
    "\n",
    "classifier = GBTC(labelCol = 'target', featuresCol = 'features', maxIter = 10)  "
   ]
  },
  {
   "cell_type": "code",
   "execution_count": 40,
   "metadata": {},
   "outputs": [],
   "source": [
    "from pyspark.ml import Pipeline\n",
    "pipeline = Pipeline(stages=[vectorAssembler, classifier])"
   ]
  },
  {
   "cell_type": "markdown",
   "metadata": {},
   "source": [
    "#### Model ML1: Split dfSpark Data Frame into Testing and Training Set"
   ]
  },
  {
   "cell_type": "code",
   "execution_count": 41,
   "metadata": {},
   "outputs": [],
   "source": [
    "SPLITS = dfSpark.randomSplit([0.8,0.2])"
   ]
  },
  {
   "cell_type": "code",
   "execution_count": 42,
   "metadata": {},
   "outputs": [],
   "source": [
    "dfSpark_train = SPLITS[0]\n",
    "dfSpark_test = SPLITS[1]"
   ]
  },
  {
   "cell_type": "code",
   "execution_count": 43,
   "metadata": {},
   "outputs": [
    {
     "data": {
      "text/plain": [
       "238"
      ]
     },
     "execution_count": 43,
     "metadata": {},
     "output_type": "execute_result"
    }
   ],
   "source": [
    "dfSpark_train.count()"
   ]
  },
  {
   "cell_type": "code",
   "execution_count": 44,
   "metadata": {},
   "outputs": [
    {
     "data": {
      "text/plain": [
       "64"
      ]
     },
     "execution_count": 44,
     "metadata": {},
     "output_type": "execute_result"
    }
   ],
   "source": [
    "dfSpark_test.count()"
   ]
  },
  {
   "cell_type": "code",
   "execution_count": 45,
   "metadata": {},
   "outputs": [],
   "source": [
    "from pyspark.ml.evaluation import MulticlassClassificationEvaluator"
   ]
  },
  {
   "cell_type": "code",
   "execution_count": 46,
   "metadata": {},
   "outputs": [
    {
     "name": "stdout",
     "output_type": "stream",
     "text": [
      "+-------------------+---+---+--------------------+--------------------+---+-------+-------------------+-----+-------+-----+---+----+------+--------------------+--------------------+--------------------+----------+\n",
      "|                age|sex| cp|            trestbps|                chol|fbs|restecg|            thalach|exang|oldpeak|slope| ca|thal|target|            features|       rawPrediction|         probability|prediction|\n",
      "+-------------------+---+---+--------------------+--------------------+---+-------+-------------------+-----+-------+-----+---+----+------+--------------------+--------------------+--------------------+----------+\n",
      "| -2.809528603018082|  1|  1|-0.09124938981792136| -0.8212006785224873|  0|      0| 2.2891872941382685|    0|    0.0|    2|  0|   2|     1|[-2.8095286030180...|[-1.3390035063459...|[0.06428365306195...|       1.0|\n",
      "|-2.2569184440292447|  0|  1| -0.7744886226694598| -0.7052664650840186|  0|      1| 1.8525733224130205|    0|    0.7|    2|  0|   2|     1|[-2.2569184440292...|[-1.2965017362444...|[0.06959006460911...|       1.0|\n",
      "|-2.2569184440292447|  1|  3| -0.7744886226694598| -1.2462927944635396|  0|      0| 1.0666681733075747|    0|    0.0|    2|  0|   2|     1|[-2.2569184440292...|[-1.2531113491170...|[0.07542309547353...|       1.0|\n",
      "| -2.146396412231477|  0|  0| 0.36424343208310433|  -1.226970425557128|  0|      1|  1.415959350687773|    0|    1.4|    2|  0|   2|     1|[-2.1463964122314...|[-1.1606121745818...|[0.08938035759547...|       1.0|\n",
      "|-1.9253523486359423|  1|  2|-0.09124938981792136| 0.06762829117244014|  0|      1| 1.6342663365503967|    0|    3.5|    0|  0|   2|     1|[-1.9253523486359...|[-0.7838088433694...|[0.17255627457224...|       1.0|\n",
      "|-1.7043082850404074|  0|  2| -2.1409670883725367| -0.9178125230545446|  0|      1| 1.2849751591701986|    0|    0.0|    2|  0|   2|     1|[-1.7043082850404...|[-1.2806003948597...|[0.07167760070282...|       1.0|\n",
      "|-1.4832642214448726|  0|  1| -0.3189958007684342|  1.1496809499314822|  0|      1| 0.5863928044098023|    0|    0.0|    2|  0|   2|     1|[-1.4832642214448...|[-1.3082440616877...|[0.06808478178869...|       1.0|\n",
      "|-1.4832642214448726|  0|  2|  -1.116108239095229| 0.41543093148784654|  0|      0| 0.9793453789625253|    1|    0.0|    2|  0|   2|     1|[-1.4832642214448...|[-1.3353949154076...|[0.06471914325300...|       1.0|\n",
      "|-1.4832642214448726|  1|  1| -1.2299814445704855|-0.22220724242373185|  0|      1|0.14977883268455464|    0|    0.0|    2|  0|   2|     1|[-1.4832642214448...|[-1.1605235201825...|[0.08939479007694...|       1.0|\n",
      "|-1.4832642214448726|  1|  1|  0.1934336238702197| -0.8405230474288988|  0|      1|-0.7671105079384655|    0|    0.0|    1|  0|   1|     1|[-1.4832642214448...|[-1.3004833646701...|[0.06907622919635...|       1.0|\n",
      "|-1.4832642214448726|  1|  2|  -1.116108239095229| 0.06762829117244014|  0|      1| 1.2849751591701986|    0|    0.0|    2|  0|   2|     1|[-1.4832642214448...|[-1.2531113491170...|[0.07542309547353...|       1.0|\n",
      "|-1.4832642214448726|  1|  2|-0.09124938981792136| -0.6279769894583727|  0|      0| 0.8046997902724262|    0|    2.0|    1|  0|   2|     1|[-1.4832642214448...|[-1.2415538223545...|[0.07705091419339...|       1.0|\n",
      "| -1.372742189647105|  0|  0| -1.6854742664715112| 0.35746382476861216|  0|      0|-1.2037244796637132|    0|    0.6|    1|  0|   2|     1|(13,[0,3,4,7,9,10...|[-1.2221250932138...|[0.07986003999765...|       1.0|\n",
      "| -1.372742189647105|  1|  0| 0.47811663755836076|-0.39610856258143506|  0|      1|  1.241313761997674|    0|    0.0|    2|  0|   2|     1|[-1.3727421896471...|[-1.1623564467803...|[0.08909682613823...|       1.0|\n",
      "| -1.372742189647105|  1|  1| -0.6606154171942035|  0.9371348919609561|  0|      1| 0.5427314072372775|    0|    0.0|    2|  0|   2|     1|[-1.3727421896471...|[-1.2672992314174...|[0.07346801249868...|       1.0|\n",
      "| -1.372742189647105|  1|  2| -0.6606154171942035|-0.12559539789167454|  1|      1| 1.9398961167580702|    0|    0.8|    0|  0|   3|     1|[-1.3727421896471...|[-0.3711197924067...|[0.32251460248295...|       1.0|\n",
      "|-1.2622201578493377|  0|  2|  -0.546742211718947| -0.6472993583647841|  0|      1| 0.6737155987548519|    0|    0.2|    1|  0|   2|     1|[-1.2622201578493...|[-1.2947882771600...|[0.06981227580460...|       1.0|\n",
      "|-1.2622201578493377|  1|  0| -1.2299814445704855| -0.6859440961776071|  0|      1|0.49907001006475277|    0|    0.0|    2|  0|   3|     1|[-1.2622201578493...|[-1.0347169525964...|[0.11210337311499...|       1.0|\n",
      "|-1.2622201578493377|  1|  0| -0.9452984308823444|   1.091713843212248|  0|      1| 1.3722979535152482|    0|    1.2|    1|  0|   2|     1|[-1.2622201578493...|[-1.1568845384982...|[0.08998901389814...|       1.0|\n",
      "|-1.2622201578493377|  1|  0|   1.047482664934643|0.009661184453205733|  0|      1| 0.9356839817900005|    0|    1.5|    2|  0|   2|     1|[-1.2622201578493...|[-1.1606121745818...|[0.08938035759547...|       1.0|\n",
      "+-------------------+---+---+--------------------+--------------------+---+-------+-------------------+-----+-------+-----+---+----+------+--------------------+--------------------+--------------------+----------+\n",
      "only showing top 20 rows\n",
      "\n",
      "Percentage Accuracy = 99.58\n"
     ]
    }
   ],
   "source": [
    "model = pipeline.fit(dfSpark_train)\n",
    "prediction = model.transform(dfSpark_train)\n",
    "prediction.show()\n",
    "binEval = MulticlassClassificationEvaluator().setMetricName(\"accuracy\").setPredictionCol(\"prediction\").setLabelCol(\"target\")\n",
    "    \n",
    "binEval.evaluate(prediction) \n",
    "\n",
    "print(\"Percentage Accuracy = %.2f\" % (100*binEval.evaluate(prediction)))"
   ]
  },
  {
   "cell_type": "code",
   "execution_count": 47,
   "metadata": {},
   "outputs": [
    {
     "name": "stdout",
     "output_type": "stream",
     "text": [
      "Percentage Accuracy = 100.00\n"
     ]
    }
   ],
   "source": [
    "model = pipeline.fit(dfSpark_test)\n",
    "prediction = model.transform(dfSpark_test)\n",
    "prediction.show()\n",
    "binEval = MulticlassClassificationEvaluator().setMetricName(\"accuracy\") .setPredictionCol(\"prediction\").setLabelCol(\"target\")\n",
    "    \n",
    "binEval.evaluate(prediction) \n",
    "\n",
    "print(\"Percentage Accuracy = %.2f\" % (100*binEval.evaluate(prediction)))"
   ]
  },
  {
   "cell_type": "markdown",
   "metadata": {},
   "source": [
    "#### Model ML2: Split dfSpark Data Frame into Testing and Training Set Using Cross Validation"
   ]
  },
  {
   "cell_type": "code",
   "execution_count": 48,
   "metadata": {},
   "outputs": [],
   "source": [
    "from sklearn.model_selection import train_test_split as TTS"
   ]
  },
  {
   "cell_type": "code",
   "execution_count": 52,
   "metadata": {},
   "outputs": [],
   "source": [
    "dfSpark_train, dfSpark_test = TTS(dfSpark.collect(), test_size = 0.2, random_state = 4)"
   ]
  },
  {
   "cell_type": "code",
   "execution_count": 56,
   "metadata": {},
   "outputs": [],
   "source": [
    "dfSpark_train = spark.createDataFrame(dfSpark_train)\n",
    "dfSpark_test = spark.createDataFrame(dfSpark_test)"
   ]
  },
  {
   "cell_type": "code",
   "execution_count": 58,
   "metadata": {},
   "outputs": [
    {
     "name": "stdout",
     "output_type": "stream",
     "text": [
      "+--------------------+---+---+--------------------+--------------------+---+-------+--------------------+-----+-------+-----+---+----+------+--------------------+--------------------+--------------------+----------+\n",
      "|                 age|sex| cp|            trestbps|                chol|fbs|restecg|             thalach|exang|oldpeak|slope| ca|thal|target|            features|       rawPrediction|         probability|prediction|\n",
      "+--------------------+---+---+--------------------+--------------------+---+-------+--------------------+-----+-------+-----+---+----+------+--------------------+--------------------+--------------------+----------+\n",
      "|  0.9482204781060112|  1|  0| 0.47811663755836076| -1.1496809499314822|  0|      0|-0.24317374186816829|    1|    4.0|    2|  2|   3|     0|[0.94822047810601...|[1.20350506711534...|[0.91736030167365...|       0.0|\n",
      "|-0.04647780807389583|  0|  1| 0.02262381565733507|  0.8018783096160759|  1|      0| 0.41174721571970324|    1|    0.0|    2|  1|   2|     1|[-0.0464778080738...|[-1.2185830142408...|[0.08038215282538...|       1.0|\n",
      "| -0.8201320306582679|  1|  2| 0.36424343208310433|  0.2028848735173204|  0|      0| 0.28076302420212895|    0|    0.0|    2|  0|   2|     1|[-0.8201320306582...|[-1.0198486099431...|[0.11509756664176...|       1.0|\n",
      "| 0.17456625552163904|  1|  1| -0.6606154171942035|-0.12559539789167454|  0|      1|  0.8483611874449509|    0|    0.0|    0|  0|   2|     1|[0.17456625552163...|[-1.1895596781634...|[0.08477887113759...|       1.0|\n",
      "|  -1.372742189647105|  0|  0| -1.6854742664715112| 0.35746382476861216|  0|      0| -1.2037244796637132|    0|    0.6|    1|  0|   2|     1|(13,[0,3,4,7,9,10...|[-1.2726935004041...|[0.07273700266337...|       1.0|\n",
      "|  0.3956103191171739|  0|  2| -0.6606154171942035|   1.806641492749472|  0|      1|  0.9793453789625253|    0|    0.0|    2|  0|   2|     1|[0.39561031911717...|[-0.5632851165124...|[0.24479460751185...|       1.0|\n",
      "| -0.2675218716694307|  1|  3|  1.1613558704098992|  0.9951019986801906|  1|      1|   1.241313761997674|    0|    1.2|    1|  0|   3|     1|[-0.2675218716694...|[-1.0208296145077...|[0.11489788664162...|       1.0|\n",
      "|  0.8376984463082436|  0|  0| 0.47811663755836076| 0.41543093148784654|  0|      0|   0.455408612892228|    0|    3.6|    0|  2|   2|     0|(13,[0,3,4,7,9,11...|[1.19513581320723...|[0.91608245185000...|       0.0|\n",
      "| -1.0411760942538029|  1|  0| -1.5716010609962547| -0.7439112028968414|  0|      0| -0.0685281531780692|    1|    3.0|    1|  0|   2|     1|[-1.0411760942538...|[-0.9794430775496...|[0.12358764169495...|       1.0|\n",
      "|  1.6113526688926159|  1|  3|  1.6168486923109249|-0.24152961133014333|  1|      0| -0.8107719051109903|    0|    0.1|    1|  1|   2|     1|[1.61135266889261...|[-1.1817743697579...|[0.08599485438242...|       1.0|\n",
      "|  1.0587425099037786|  1|  3|   2.186214719687207| -0.3767861936750236|  0|      0| 0.23710162702960416|    0|    0.6|    1|  0|   3|     1|[1.05874250990377...|[-0.6309168175105...|[0.22065840366492...|       1.0|\n",
      "|  0.8376984463082436|  0|  0| -0.4328690062436906|   -0.72458883399043|  0|      1|  0.5863928044098023|    0|    0.0|    2|  0|   2|     1|(13,[0,3,4,6,7,10...|[-1.3319838808285...|[0.06513331531123...|       1.0|\n",
      "|  0.2850882873194065|  0|  1|-0.09124938981792136| -0.2028848735173204|  0|      0|  1.0666681733075747|    0|    0.0|    1|  1|   2|     0|[0.28508828731940...|[0.47621219028156...|[0.72160247907351...|       0.0|\n",
      "| -1.4832642214448726|  1|  2|-0.09124938981792136| -0.6279769894583727|  0|      0|  0.8046997902724262|    0|    2.0|    1|  0|   2|     1|[-1.4832642214448...|[-1.1698871085414...|[0.08788201162482...|       1.0|\n",
      "|-0.04647780807389583|  0|  2| -1.2299814445704855| -0.6279769894583727|  0|      1|  0.3680858185471785|    0|    1.6|    1|  0|   2|     1|[-0.0464778080738...|[-1.2579241225142...|[0.07475460039820...|       1.0|\n",
      "| -0.2675218716694307|  0|  2|  0.2503702266078479| -0.9757796297737791|  0|      0|  0.8483611874449509|    0|    0.1|    1|  0|   2|     1|[-0.2675218716694...|[-1.2528744853863...|[0.07545613724372...|       1.0|\n",
      "|  -1.372742189647105|  1|  2| -0.6606154171942035|-0.12559539789167454|  1|      1|  1.9398961167580702|    0|    0.8|    0|  0|   3|     1|[-1.3727421896471...|[-0.9453548238137...|[0.13116357704299...|       1.0|\n",
      "| -1.2622201578493377|  0|  0| 0.02262381565733507|  1.8259638616558835|  1|      0| -0.5924649192483664|    1|    3.0|    1|  0|   3|     0|[-1.2622201578493...|[1.35585718836801...|[0.93771435392540...|       0.0|\n",
      "|  -1.372742189647105|  1|  3|  0.9336094594593864|-0.04830592226602...|  0|      0|   1.241313761997674|    0|    0.8|    2|  2|   2|     1|[-1.3727421896471...|[-1.2645010687648...|[0.07384986745253...|       1.0|\n",
      "|  0.5061323509149414|  1|  2| -0.3189958007684342| -0.5506875138327268|  1|      1| -0.6797877135934159|    0|    2.2|    1|  1|   1|     0|[0.50613235091494...|[1.12656260957076...|[0.90491976938135...|       0.0|\n",
      "+--------------------+---+---+--------------------+--------------------+---+-------+--------------------+-----+-------+-----+---+----+------+--------------------+--------------------+--------------------+----------+\n",
      "only showing top 20 rows\n",
      "\n",
      "Percentage Accuracy = 99.59\n"
     ]
    }
   ],
   "source": [
    "model = pipeline.fit(dfSpark_train)\n",
    "prediction = model.transform(dfSpark_train)\n",
    "prediction.show()\n",
    "binEval = MulticlassClassificationEvaluator().setMetricName(\"accuracy\") .setPredictionCol(\"prediction\").setLabelCol(\"target\")\n",
    "    \n",
    "binEval.evaluate(prediction) \n",
    "\n",
    "print(\"Percentage Accuracy = %.2f\" % (100*binEval.evaluate(prediction)))"
   ]
  },
  {
   "cell_type": "code",
   "execution_count": 59,
   "metadata": {},
   "outputs": [
    {
     "name": "stdout",
     "output_type": "stream",
     "text": [
      "+--------------------+---+---+--------------------+--------------------+---+-------+--------------------+-----+-------+-----+---+----+------+--------------------+--------------------+--------------------+----------+\n",
      "|                 age|sex| cp|            trestbps|                chol|fbs|restecg|             thalach|exang|oldpeak|slope| ca|thal|target|            features|       rawPrediction|         probability|prediction|\n",
      "+--------------------+---+---+--------------------+--------------------+---+-------+--------------------+-----+-------+-----+---+----+------+--------------------+--------------------+--------------------+----------+\n",
      "|  0.9482204781060112|  0|  0| -0.4328690062436906| -0.9564572608673676|  0|      1| -0.5924649192483664|    1|    0.0|    1|  0|   2|     0|[0.94822047810601...|[1.32590267922033...|[0.93412217565278...|       0.0|\n",
      "| 0.17456625552163904|  1|  2|-0.09124938981792136| 0.18356250461090892|  1|      0|-0.33049653621321784|    1|    0.6|    1|  1|   1|     0|[0.17456625552163...|[1.32590267922033...|[0.93412217565278...|       0.0|\n",
      "| -1.2622201578493377|  1|  0|   1.047482664934643|0.009661184453205733|  0|      1|  0.9356839817900005|    0|    1.5|    2|  0|   2|     1|[-1.2622201578493...|[-1.3259026792203...|[0.06587782434721...|       1.0|\n",
      "|-0.15699983987166327|  0|  0|-0.09124938981792136|  0.3381414558622007|  0|      0| -0.2868351390406931|    0|    0.4|    1|  0|   2|     1|(13,[0,3,4,7,9,10...|[-1.3259026792203...|[0.06587782434721...|       1.0|\n",
      "| 0.17456625552163904|  0|  0|  0.1364970211325915|  3.1398849472918635|  0|      0|0.018794641166980326|    1|    1.9|    1|  2|   3|     0|[0.17456625552163...|[1.32590267922033...|[0.93412217565278...|       0.0|\n",
      "| -0.9306540624560353|  1|  2|   1.047482664934643| -0.2994967180493777|  0|      1|-0.11218955035059398|    0|    3.6|    1|  0|   2|     0|[-0.9306540624560...|[1.32590267922033...|[0.93412217565278...|       0.0|\n",
      "|  0.2850882873194065|  1|  1|  1.2752290758851557| -0.2801743491429663|  0|      0|  0.6300542015823271|    0|    0.0|    2|  1|   2|     0|[0.28508828731940...|[1.32590267922033...|[0.93412217565278...|       0.0|\n",
      "| -1.1516981260515702|  1|  0|  -1.116108239095229|  0.8405230474288988|  0|      0| 0.14977883268455464|    0|    0.0|    2|  1|   2|     0|[-1.1516981260515...|[1.32590267922033...|[0.93412217565278...|       0.0|\n",
      "|  1.0587425099037786|  1|  3| -1.2299814445704855| -0.6859440961776071|  0|      0|-0.24317374186816829|    1|    1.8|    1|  0|   2|     1|[1.05874250990377...|[-1.3259026792203...|[0.06587782434721...|       1.0|\n",
      "|  0.6166543827127088|  1|  0| 0.47811663755836076|  0.8984901541481332|  0|      0|  0.8920225846174757|    0|    1.2|    1|  2|   3|     0|[0.61665438271270...|[1.32590267922033...|[0.93412217565278...|       0.0|\n",
      "| -1.7043082850404074|  0|  2| -2.1409670883725367| -0.9178125230545446|  0|      1|  1.2849751591701986|    0|    0.0|    2|  0|   2|     1|[-1.7043082850404...|[-1.3259026792203...|[0.06587782434721...|       1.0|\n",
      "|  0.6166543827127088|  0|  0|   1.047482664934643| 0.22220724242373185|  0|      0|  0.3244244213746537|    0|    2.6|    1|  2|   3|     0|[0.61665438271270...|[1.32590267922033...|[0.93412217565278...|       0.0|\n",
      "| 0.17456625552163904|  0|  1| 0.47811663755836076|  0.9178125230545446|  0|      0| 0.14977883268455464|    0|    1.3|    1|  0|   2|     1|[0.17456625552163...|[-1.3259026792203...|[0.06587782434721...|       1.0|\n",
      "|-0.04647780807389583|  1|  2| -0.3759324035060624|  0.5120427760199039|  0|      0| 0.10611743551202986|    0|    0.5|    0|  1|   2|     1|[-0.0464778080738...|[-1.3259026792203...|[0.06587782434721...|       1.0|\n",
      "|-0.04647780807389583|  1|  1|  -1.343854650045742|  1.2076480566507166|  0|      1| 0.28076302420212895|    0|    0.0|    2|  0|   3|     1|[-0.0464778080738...|[-1.3259026792203...|[0.06587782434721...|       1.0|\n",
      "|  0.7271764145104762|  1|  0| 0.47811663755836076| -0.7632335718032529|  0|      0| -0.5051421249033169|    1|    1.9|    2|  1|   3|     0|[0.72717641451047...|[1.32590267922033...|[0.93412217565278...|       0.0|\n",
      "|  1.7218747006903832|  1|  0|-0.09124938981792136|  1.4588388524340656|  0|      0| -1.7713226429065352|    0|    2.4|    1|  3|   2|     0|[1.72187470069038...|[1.32590267922033...|[0.93412217565278...|       0.0|\n",
      "|   -1.59378625324264|  1|  3| 0.47811663755836076| -0.9178125230545446|  0|      1|   1.241313761997674|    1|    1.4|    2|  0|   3|     1|[-1.5937862532426...|[-1.3259026792203...|[0.06587782434721...|       1.0|\n",
      "| -1.0411760942538029|  1|  3| -1.2299814445704855|  0.3381414558622007|  0|      1| -0.7671105079384655|    0|    1.2|    1|  0|   3|     0|[-1.0411760942538...|[1.32590267922033...|[0.93412217565278...|       0.0|\n",
      "|  0.8376984463082436|  1|  1| -0.6606154171942035|  0.6666217272711956|  0|      0| -2.0332910259416836|    0|    1.4|    1|  1|   3|     0|[0.83769844630824...|[1.32590267922033...|[0.93412217565278...|       0.0|\n",
      "+--------------------+---+---+--------------------+--------------------+---+-------+--------------------+-----+-------+-----+---+----+------+--------------------+--------------------+--------------------+----------+\n",
      "only showing top 20 rows\n",
      "\n",
      "Percentage Accuracy = 100.00\n"
     ]
    }
   ],
   "source": [
    "model = pipeline.fit(dfSpark_test)\n",
    "prediction = model.transform(dfSpark_test)\n",
    "prediction.show()\n",
    "binEval = MulticlassClassificationEvaluator().setMetricName(\"accuracy\") .setPredictionCol(\"prediction\").setLabelCol(\"target\")\n",
    "    \n",
    "binEval.evaluate(prediction) \n",
    "\n",
    "print(\"Percentage Accuracy = %.2f\" % (100*binEval.evaluate(prediction)))"
   ]
  },
  {
   "cell_type": "markdown",
   "metadata": {},
   "source": [
    "### Comparing Between the Splitting of Data and Cross Validation, the latter is slightly more accurate in Comparison"
   ]
  },
  {
   "cell_type": "markdown",
   "metadata": {},
   "source": [
    "### Step 5: Some PCA ... Dimensionality Reduction"
   ]
  },
  {
   "cell_type": "code",
   "execution_count": 17,
   "metadata": {},
   "outputs": [],
   "source": [
    "from pyspark.ml.feature import PCA\n",
    "from pyspark.ml.linalg import Vectors\n",
    "from pyspark.ml.feature import VectorAssembler"
   ]
  },
  {
   "cell_type": "code",
   "execution_count": 18,
   "metadata": {},
   "outputs": [],
   "source": [
    "assembler = VectorAssembler(inputCols = dfSpark.columns[0:13], outputCol=\"features\")"
   ]
  },
  {
   "cell_type": "code",
   "execution_count": 21,
   "metadata": {},
   "outputs": [],
   "source": [
    "dfSpark2 = dfSpark.collect()[:][0:13]"
   ]
  },
  {
   "cell_type": "code",
   "execution_count": 23,
   "metadata": {},
   "outputs": [],
   "source": [
    "dfSpark2 = spark.createDataFrame(dfSpark2)"
   ]
  },
  {
   "cell_type": "code",
   "execution_count": 24,
   "metadata": {},
   "outputs": [],
   "source": [
    "features = assembler.transform(dfSpark2)"
   ]
  },
  {
   "cell_type": "code",
   "execution_count": 25,
   "metadata": {},
   "outputs": [
    {
     "data": {
      "text/plain": [
       "[DenseVector([0.9482, 1.0, 3.0, 0.7628, -0.2609, 1.0, 0.0, 0.0188, 0.0, 2.3, 0.0, 0.0, 1.0]),\n",
       " DenseVector([-1.9254, 1.0, 2.0, -0.0912, 0.0676, 0.0, 1.0, 1.6343, 0.0, 3.5, 0.0, 0.0, 2.0]),\n",
       " DenseVector([-1.4833, 0.0, 1.0, -0.0912, -0.8212, 0.0, 0.0, 0.9793, 0.0, 1.4, 2.0, 0.0, 2.0]),\n",
       " DenseVector([0.1746, 1.0, 1.0, -0.6606, -0.2029, 0.0, 1.0, 1.2413, 0.0, 0.8, 2.0, 0.0, 2.0]),\n",
       " DenseVector([0.2851, 0.0, 0.0, -0.6606, 2.0772, 0.0, 1.0, 0.5864, 1.0, 0.6, 2.0, 0.0, 2.0]),\n",
       " DenseVector([0.2851, 1.0, 0.0, 0.4781, -1.0531, 0.0, 1.0, -0.0685, 0.0, 0.4, 1.0, 0.0, 1.0]),\n",
       " DenseVector([0.1746, 0.0, 1.0, 0.4781, 0.9178, 0.0, 0.0, 0.1498, 0.0, 1.3, 1.0, 0.0, 2.0]),\n",
       " DenseVector([-1.1517, 1.0, 1.0, -0.6606, 0.3188, 0.0, 1.0, 1.023, 0.0, 0.0, 2.0, 0.0, 3.0]),\n",
       " DenseVector([-0.2675, 1.0, 2.0, 2.3001, -0.9178, 1.0, 1.0, 0.5427, 0.0, 0.5, 2.0, 0.0, 3.0]),\n",
       " DenseVector([0.2851, 1.0, 2.0, 1.0475, -1.5168, 0.0, 1.0, 1.0667, 0.0, 1.6, 2.0, 0.0, 2.0])]"
      ]
     },
     "execution_count": 25,
     "metadata": {},
     "output_type": "execute_result"
    }
   ],
   "source": [
    "features.rdd.map(lambda r : r.features).take(10)"
   ]
  },
  {
   "cell_type": "code",
   "execution_count": 26,
   "metadata": {},
   "outputs": [],
   "source": [
    "pca = PCA(k=3, inputCol=\"features\", outputCol=\"pcaFeatures\")\n",
    "model = pca.fit(features)"
   ]
  },
  {
   "cell_type": "code",
   "execution_count": 27,
   "metadata": {},
   "outputs": [
    {
     "name": "stdout",
     "output_type": "stream",
     "text": [
      "+--------------------------------------------------------------+\n",
      "|pcaFeatures                                                   |\n",
      "+--------------------------------------------------------------+\n",
      "|[-3.234097894582412,0.0045276794055594816,0.05378456603086862]|\n",
      "|[-2.528600211872038,-2.5691720091343933,2.935499144771235]    |\n",
      "|[-0.49433107525481,-0.38499910424358974,3.0287057455736432]   |\n",
      "|[0.15567979885164096,0.07382292431740078,2.1867611618534197]  |\n",
      "|[1.8979995041089817,-0.8445584773976423,0.677326879492331]    |\n",
      "|[-0.3022348687786358,1.173142321333342,1.1967291010116876]    |\n",
      "|[-0.3571623225589763,-0.3664432527556941,0.6817202248418337]  |\n",
      "|[0.9336739425573852,-0.16021697898707415,3.0888104538907433]  |\n",
      "|[-1.45377334695709,2.1606893868472468,2.7731095118879248]     |\n",
      "|[-1.8325592852845665,1.190041856134545,2.5891358545239607]    |\n",
      "|[0.13195492413804,0.50081692666711,1.9355222368785507]        |\n",
      "|[0.2826361536361295,0.23975811869677344,1.6361621427116817]   |\n",
      "|[0.3227075580603529,-0.03190516734128823,2.3070956153422277]  |\n",
      "+--------------------------------------------------------------+\n",
      "\n"
     ]
    }
   ],
   "source": [
    "result_pca = model.transform(features).select(\"pcaFeatures\")\n",
    "result_pca.show(truncate=False)"
   ]
  },
  {
   "cell_type": "code",
   "execution_count": 28,
   "metadata": {},
   "outputs": [
    {
     "data": {
      "text/plain": [
       "13"
      ]
     },
     "execution_count": 28,
     "metadata": {},
     "output_type": "execute_result"
    }
   ],
   "source": [
    "result_pca.count()"
   ]
  },
  {
   "cell_type": "code",
   "execution_count": 33,
   "metadata": {},
   "outputs": [
    {
     "data": {
      "text/plain": [
       "Row(pcaFeatures=DenseVector([-2.5286, -2.5692, 2.9355]))"
      ]
     },
     "execution_count": 33,
     "metadata": {},
     "output_type": "execute_result"
    }
   ],
   "source": [
    "result_pca.collect()[1]"
   ]
  },
  {
   "cell_type": "code",
   "execution_count": 35,
   "metadata": {},
   "outputs": [],
   "source": [
    "x = result_pca.rdd.map(lambda row : row.pcaFeatures[0]).collect()"
   ]
  },
  {
   "cell_type": "code",
   "execution_count": 38,
   "metadata": {},
   "outputs": [],
   "source": [
    "y = result_pca.rdd.map(lambda row : row.pcaFeatures[1]).collect()"
   ]
  },
  {
   "cell_type": "code",
   "execution_count": 39,
   "metadata": {},
   "outputs": [],
   "source": [
    "z = result_pca.rdd.map(lambda row : row.pcaFeatures[2]).collect()"
   ]
  },
  {
   "cell_type": "code",
   "execution_count": 41,
   "metadata": {},
   "outputs": [
    {
     "data": {
      "image/png": "[encoded data removed]",
      "text/plain": [
       "<Figure size 432x288 with 1 Axes>"
      ]
     },
     "metadata": {
      "needs_background": "light"
     },
     "output_type": "display_data"
    }
   ],
   "source": [
    "%matplotlib inline\n",
    "import matplotlib.pyplot as plt\n",
    "from mpl_toolkits.mplot3d import Axes3D\n",
    "\n",
    "\n",
    "fig = plt.figure()\n",
    "ax = fig.add_subplot(111, projection='3d')\n",
    "\n",
    "\n",
    "\n",
    "\n",
    "ax.scatter(x,y,z, c='g', marker='o')\n",
    "\n",
    "ax.set_xlabel('dimension1')\n",
    "ax.set_ylabel('dimension2')\n",
    "ax.set_zlabel('dimension3')\n",
    "\n",
    "plt.show()"
   ]
  },
  {
   "cell_type": "markdown",
   "metadata": {},
   "source": [
    "### No Evidence of Clustering!!"
   ]
  },
  {
   "cell_type": "markdown",
   "metadata": {},
   "source": [
    "### Step 6: Using Deep Feedforward (DFF) Neural Networks on Keras Platform having backend TensorFlow, we apply Activation Function RELU and output functions SIGMOID and SOFTMAX. The optimizer is Steep Gradient Descept (SGD), loss functions are CATEGORICAL CROSSENTROPY and BINARY CROSSENTROPY while the metric is ACCURACY."
   ]
  },
  {
   "cell_type": "markdown",
   "metadata": {},
   "source": [
    "#### - Splitting Data Into Training and Testing Sets ... Later Cross Validation Will Be Used in Computing The Accuracy Score ..."
   ]
  },
  {
   "cell_type": "code",
   "execution_count": 17,
   "metadata": {},
   "outputs": [],
   "source": [
    "SPLITS = dfSpark.randomSplit([0.8,0.2])"
   ]
  },
  {
   "cell_type": "code",
   "execution_count": 18,
   "metadata": {},
   "outputs": [],
   "source": [
    "dfSpark_train = SPLITS[0]\n",
    "dfSpark_test = SPLITS[1]"
   ]
  },
  {
   "cell_type": "code",
   "execution_count": 19,
   "metadata": {},
   "outputs": [
    {
     "data": {
      "text/plain": [
       "14"
      ]
     },
     "execution_count": 19,
     "metadata": {},
     "output_type": "execute_result"
    }
   ],
   "source": [
    "LENGTH"
   ]
  },
  {
   "cell_type": "code",
   "execution_count": 20,
   "metadata": {},
   "outputs": [
    {
     "data": {
      "text/plain": [
       "243"
      ]
     },
     "execution_count": 20,
     "metadata": {},
     "output_type": "execute_result"
    }
   ],
   "source": [
    "dfSpark_train.count()"
   ]
  },
  {
   "cell_type": "code",
   "execution_count": 21,
   "metadata": {},
   "outputs": [],
   "source": [
    "import numpy as np"
   ]
  },
  {
   "cell_type": "code",
   "execution_count": 22,
   "metadata": {},
   "outputs": [],
   "source": [
    "Xtrain = np.array(dfSpark_train.rdd.map(lambda x : x[0:-1]).collect())\n",
    "Ytrain = np.array(dfSpark_train.rdd.map(lambda x : x[-1]).collect())\n",
    "Xtest = np.array(dfSpark_test.rdd.map(lambda x : x[0:-1]).collect())\n",
    "Ytest = np.array(dfSpark_test.rdd.map(lambda x : x[-1]).collect())"
   ]
  },
  {
   "cell_type": "code",
   "execution_count": 23,
   "metadata": {},
   "outputs": [
    {
     "data": {
      "text/plain": [
       "(243, 13)"
      ]
     },
     "execution_count": 23,
     "metadata": {},
     "output_type": "execute_result"
    }
   ],
   "source": [
    "Xtrain.shape"
   ]
  },
  {
   "cell_type": "code",
   "execution_count": 24,
   "metadata": {},
   "outputs": [],
   "source": [
    "import numpy as np\n",
    "\n",
    "from tensorflow.keras.models import Sequential\n",
    "\n",
    "from tensorflow.keras.layers import Dense, Dropout\n",
    "\n",
    "from tensorflow.keras.utils import to_categorical\n"
   ]
  },
  {
   "cell_type": "code",
   "execution_count": 34,
   "metadata": {},
   "outputs": [],
   "source": [
    "model = Sequential()"
   ]
  },
  {
   "cell_type": "code",
   "execution_count": 26,
   "metadata": {},
   "outputs": [],
   "source": [
    "batch_size = 9\n",
    "num_classes = 2\n",
    "epochs = 10"
   ]
  },
  {
   "cell_type": "code",
   "execution_count": 223,
   "metadata": {},
   "outputs": [],
   "source": [
    "Ytrain = to_categorical(Ytrain, num_classes)\n",
    "Ytest = to_categorical(Ytest, num_classes)"
   ]
  },
  {
   "cell_type": "markdown",
   "metadata": {},
   "source": [
    "#### Model DL1: Using Categorical CrossEntropy with Optimizer SGD and Accuracy Metric. Activation Function RELU and Output Function SOFTMAX"
   ]
  },
  {
   "cell_type": "code",
   "execution_count": 35,
   "metadata": {},
   "outputs": [],
   "source": [
    "model.add(Dense(512, activation = 'relu', input_shape = (LENGTH-1,)))\n",
    "model.add(Dropout (0.5))\n",
    "model.add(Dense(num_classes, activation = 'softmax'))"
   ]
  },
  {
   "cell_type": "code",
   "execution_count": 36,
   "metadata": {},
   "outputs": [],
   "source": [
    "model.compile(loss = 'sparse_categorical_crossentropy', optimizer = 'sgd', metrics = ['accuracy']) "
   ]
  },
  {
   "cell_type": "code",
   "execution_count": 37,
   "metadata": {},
   "outputs": [
    {
     "name": "stdout",
     "output_type": "stream",
     "text": [
      "Train on 243 samples, validate on 59 samples\n",
      "Epoch 1/10\n",
      "243/243 [==============================] - 12s 47ms/sample - loss: 0.6940 - acc: 0.5021 - val_loss: 0.5388 - val_acc: 0.7797\n",
      "Epoch 2/10\n",
      "243/243 [==============================] - 2s 10ms/sample - loss: 0.5685 - acc: 0.7407 - val_loss: 0.4612 - val_acc: 0.7966\n",
      "Epoch 3/10\n",
      "243/243 [==============================] - 3s 10ms/sample - loss: 0.5362 - acc: 0.7366 - val_loss: 0.4135 - val_acc: 0.8475\n",
      "Epoch 4/10\n",
      "243/243 [==============================] - 2s 9ms/sample - loss: 0.5025 - acc: 0.7613 - val_loss: 0.3814 - val_acc: 0.8814\n",
      "Epoch 5/10\n",
      "243/243 [==============================] - 15s 61ms/sample - loss: 0.4808 - acc: 0.7901 - val_loss: 0.3603 - val_acc: 0.8814\n",
      "Epoch 6/10\n",
      "243/243 [==============================] - 1s 3ms/sample - loss: 0.4685 - acc: 0.7695 - val_loss: 0.3446 - val_acc: 0.9153\n",
      "Epoch 7/10\n",
      "243/243 [==============================] - 1s 6ms/sample - loss: 0.4558 - acc: 0.7901 - val_loss: 0.3328 - val_acc: 0.8814\n",
      "Epoch 8/10\n",
      "243/243 [==============================] - 2s 9ms/sample - loss: 0.4566 - acc: 0.7737 - val_loss: 0.3247 - val_acc: 0.8644\n",
      "Epoch 9/10\n",
      "243/243 [==============================] - 2s 9ms/sample - loss: 0.4529 - acc: 0.8066 - val_loss: 0.3159 - val_acc: 0.8814\n",
      "Epoch 10/10\n",
      "243/243 [==============================] - 2s 7ms/sample - loss: 0.4388 - acc: 0.7942 - val_loss: 0.3157 - val_acc: 0.8814\n"
     ]
    },
    {
     "data": {
      "text/plain": [
       "<tensorflow.python.keras.callbacks.History at 0x7f978c06c908>"
      ]
     },
     "execution_count": 37,
     "metadata": {},
     "output_type": "execute_result"
    }
   ],
   "source": [
    "\n",
    "model.fit(Xtrain, Ytrain, batch_size = batch_size, epochs = epochs, validation_data = (Xtest,Ytest)) \n"
   ]
  },
  {
   "cell_type": "code",
   "execution_count": 38,
   "metadata": {},
   "outputs": [],
   "source": [
    "score = model.evaluate(Xtest, Ytest, verbose = 0)"
   ]
  },
  {
   "cell_type": "code",
   "execution_count": 41,
   "metadata": {},
   "outputs": [
    {
     "name": "stdout",
     "output_type": "stream",
     "text": [
      "Loss Score = 0.3157\n"
     ]
    }
   ],
   "source": [
    "print(\"Loss Score = %.4f\" % score[0])"
   ]
  },
  {
   "cell_type": "code",
   "execution_count": 42,
   "metadata": {},
   "outputs": [
    {
     "name": "stdout",
     "output_type": "stream",
     "text": [
      "Accuracy Score = 0.8814\n"
     ]
    }
   ],
   "source": [
    "print(\"Accuracy Score = %.4f\" % score[1])"
   ]
  },
  {
   "cell_type": "markdown",
   "metadata": {},
   "source": [
    "#### Model DL2: Using Binary CrossEntropy with Optimizer SGD and Accuracy Metric. Activation Function RELU and Output Function SIGMOID"
   ]
  },
  {
   "cell_type": "code",
   "execution_count": 44,
   "metadata": {},
   "outputs": [],
   "source": [
    "batch_size = 9\n",
    "num_classes = 1\n",
    "epochs = 10"
   ]
  },
  {
   "cell_type": "code",
   "execution_count": 45,
   "metadata": {},
   "outputs": [],
   "source": [
    "model.add(Dense(512, activation = 'relu', input_shape = (LENGTH-1,)))\n",
    "model.add(Dropout (0.5))\n",
    "model.add(Dense(num_classes, activation = 'sigmoid'))"
   ]
  },
  {
   "cell_type": "code",
   "execution_count": 46,
   "metadata": {},
   "outputs": [],
   "source": [
    "model.compile(loss = 'binary_crossentropy', optimizer = 'sgd', metrics = ['accuracy']) "
   ]
  },
  {
   "cell_type": "code",
   "execution_count": 49,
   "metadata": {},
   "outputs": [
    {
     "name": "stdout",
     "output_type": "stream",
     "text": [
      "Train on 243 samples, validate on 59 samples\n",
      "Epoch 1/10\n",
      "243/243 [==============================] - 21s 88ms/sample - loss: 0.6874 - acc: 0.5556 - val_loss: 0.6993 - val_acc: 0.4915\n",
      "Epoch 2/10\n",
      "243/243 [==============================] - 9s 38ms/sample - loss: 0.6860 - acc: 0.5556 - val_loss: 0.6996 - val_acc: 0.4915\n",
      "Epoch 3/10\n",
      "243/243 [==============================] - 12s 51ms/sample - loss: 0.6890 - acc: 0.5556 - val_loss: 0.6996 - val_acc: 0.4915\n",
      "Epoch 4/10\n",
      "243/243 [==============================] - 27s 111ms/sample - loss: 0.6884 - acc: 0.5556 - val_loss: 0.6998 - val_acc: 0.4915\n",
      "Epoch 5/10\n",
      "243/243 [==============================] - 16s 67ms/sample - loss: 0.6888 - acc: 0.5556 - val_loss: 0.6997 - val_acc: 0.4915\n",
      "Epoch 6/10\n",
      "243/243 [==============================] - 16s 64ms/sample - loss: 0.6874 - acc: 0.5556 - val_loss: 0.7000 - val_acc: 0.4915\n",
      "Epoch 7/10\n",
      "243/243 [==============================] - 23s 94ms/sample - loss: 0.6859 - acc: 0.5556 - val_loss: 0.6998 - val_acc: 0.4915\n",
      "Epoch 8/10\n",
      "243/243 [==============================] - 20s 84ms/sample - loss: 0.6848 - acc: 0.5556 - val_loss: 0.6999 - val_acc: 0.4915\n",
      "Epoch 9/10\n",
      "243/243 [==============================] - 18s 73ms/sample - loss: 0.6877 - acc: 0.5556 - val_loss: 0.6999 - val_acc: 0.4915\n",
      "Epoch 10/10\n",
      "243/243 [==============================] - 20s 81ms/sample - loss: 0.6885 - acc: 0.5556 - val_loss: 0.7000 - val_acc: 0.4915\n"
     ]
    },
    {
     "data": {
      "text/plain": [
       "<tensorflow.python.keras.callbacks.History at 0x7f972834e710>"
      ]
     },
     "execution_count": 49,
     "metadata": {},
     "output_type": "execute_result"
    }
   ],
   "source": [
    "model.fit(Xtrain, Ytrain, batch_size = batch_size, epochs = epochs, validation_data = (Xtest,Ytest)) \n"
   ]
  },
  {
   "cell_type": "code",
   "execution_count": 50,
   "metadata": {},
   "outputs": [],
   "source": [
    "score = model.evaluate(Xtest, Ytest, verbose = 0)"
   ]
  },
  {
   "cell_type": "code",
   "execution_count": 51,
   "metadata": {},
   "outputs": [
    {
     "name": "stdout",
     "output_type": "stream",
     "text": [
      "Loss Score = 0.7000\n",
      "Accuracy Score = 0.4915\n"
     ]
    }
   ],
   "source": [
    "print(\"Loss Score = %.4f\" % score[0])\n",
    "print(\"Accuracy Score = %.4f\" % score[1])"
   ]
  },
  {
   "cell_type": "code",
   "execution_count": null,
   "metadata": {},
   "outputs": [],
   "source": []
  }
 ],
 "metadata": {
  "kernelspec": {
   "display_name": "Python 3.6",
   "language": "python",
   "name": "python3"
  },
  "language_info": {
   "codemirror_mode": {
    "name": "ipython",
    "version": 3
   },
   "file_extension": ".py",
   "mimetype": "text/x-python",
   "name": "python",
   "nbconvert_exporter": "python",
   "pygments_lexer": "ipython3",
   "version": "3.6.9"
  }
 },
 "nbformat": 4,
 "nbformat_minor": 1
}
